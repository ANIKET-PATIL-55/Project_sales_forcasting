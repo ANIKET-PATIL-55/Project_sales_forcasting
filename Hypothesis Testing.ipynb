{
 "cells": [
  {
   "cell_type": "code",
   "execution_count": 5,
   "id": "8abb2f59",
   "metadata": {
    "ExecuteTime": {
     "end_time": "2024-08-04T16:06:59.449194Z",
     "start_time": "2024-08-04T16:06:59.427143Z"
    }
   },
   "outputs": [],
   "source": [
    "import pandas as pd\n",
    "import numpy as np\n",
    "import matplotlib.pyplot as plt\n",
    "import seaborn as sns\n",
    "import warnings\n",
    "import scipy.stats as stats\n",
    "from statsmodels.stats.multicomp import pairwise_tukeyhsd\n",
    "warnings.filterwarnings('ignore')"
   ]
  },
  {
   "cell_type": "code",
   "execution_count": 4,
   "id": "55dc99e4",
   "metadata": {
    "ExecuteTime": {
     "end_time": "2024-08-04T16:06:16.520356Z",
     "start_time": "2024-08-04T16:06:15.780614Z"
    }
   },
   "outputs": [],
   "source": [
    "data=pd.read_csv('final_data_for_hypothesis.csv')"
   ]
  },
  {
   "cell_type": "markdown",
   "id": "c8636b72",
   "metadata": {
    "ExecuteTime": {
     "end_time": "2024-08-04T16:14:11.196650Z",
     "start_time": "2024-08-04T16:14:11.023258Z"
    }
   },
   "source": [
    "### Hypothesis Testing\n",
    "\n",
    "**Null Hypothesis (H0):** The mean sales are the same across all store types.\n",
    "\n",
    "**Alternative Hypothesis (H1):** At least one store type has a different mean sales compared to the others.\n"
   ]
  },
  {
   "cell_type": "code",
   "execution_count": 12,
   "id": "25ca84c1",
   "metadata": {
    "ExecuteTime": {
     "end_time": "2024-08-04T16:28:34.478491Z",
     "start_time": "2024-08-04T16:28:33.957359Z"
    }
   },
   "outputs": [
    {
     "name": "stdout",
     "output_type": "stream",
     "text": [
      "ANOVA p-value: 0.0\n",
      "     Multiple Comparison of Means - Tukey HSD, FWER=0.05     \n",
      "=============================================================\n",
      "group1 group2   meandiff  p-adj    lower      upper    reject\n",
      "-------------------------------------------------------------\n",
      "    S1     S2 -10107.2382   0.0 -10340.7664 -9873.7099   True\n",
      "    S1     S3   9184.3262   0.0   8936.2044   9432.448   True\n",
      "    S1     S4  19967.3429   0.0  19766.5766 20168.1092   True\n",
      "    S2     S3  19291.5643   0.0  18992.7332 19590.3955   True\n",
      "    S2     S4  30074.5811   0.0  29813.7311  30335.431   True\n",
      "    S3     S4  10783.0167   0.0  10509.0246 11057.0089   True\n",
      "-------------------------------------------------------------\n",
      "\n",
      "There is a significant difference in sales between store types.\n",
      "Reject Null Hypothesis\n"
     ]
    }
   ],
   "source": [
    "# One-way ANOVA test\n",
    "anova_result = stats.f_oneway(\n",
    "    data[data['Store_Type'] == 'S1']['Sales'],\n",
    "    data[data['Store_Type'] == 'S2']['Sales'],\n",
    "    data[data['Store_Type'] == 'S3']['Sales'],\n",
    "    data[data['Store_Type'] == 'S4']['Sales']\n",
    ")\n",
    "print(\"ANOVA p-value:\", anova_result.pvalue)\n",
    "\n",
    "# post-hoc test (Tukey's HSD)\n",
    "if anova_result.pvalue < 0.05:\n",
    "    tukey_result = pairwise_tukeyhsd(data['Sales'], data['Store_Type'])\n",
    "    print(tukey_result)\n",
    "print()\n",
    "if anova_result.pvalue < 0.05:\n",
    "    print(\"There is a significant difference in sales between store types.\")\n",
    "    print(\"Reject Null Hypothesis\")\n",
    "else:\n",
    "    print(\"There is no significant difference in sales between store types.\")\n",
    "    print(\"Fail to reject Null Hypothesis\")"
   ]
  },
  {
   "cell_type": "markdown",
   "id": "be700d9a",
   "metadata": {
    "ExecuteTime": {
     "end_time": "2024-08-04T16:27:45.503099Z",
     "start_time": "2024-08-04T16:27:45.492831Z"
    }
   },
   "source": [
    "### Hypothesis Testing\n",
    "\n",
    "**Null Hypothesis (H0):** The mean sales are the same across all Locations.\n",
    "\n",
    "**Alternative Hypothesis (H1):** At least one Location type has a different mean sales compared to the others."
   ]
  },
  {
   "cell_type": "code",
   "execution_count": 16,
   "id": "dc24d8eb",
   "metadata": {
    "ExecuteTime": {
     "end_time": "2024-08-04T16:39:58.314722Z",
     "start_time": "2024-08-04T16:39:57.800974Z"
    }
   },
   "outputs": [
    {
     "name": "stdout",
     "output_type": "stream",
     "text": [
      "ANOVA p-value: 0.0\n",
      "     Multiple Comparison of Means - Tukey HSD, FWER=0.05      \n",
      "==============================================================\n",
      "group1 group2   meandiff  p-adj    lower       upper    reject\n",
      "--------------------------------------------------------------\n",
      "    L1     L2  15611.5633   0.0  15399.4575  15823.6692   True\n",
      "    L1     L3  -8294.0324   0.0   -8541.623  -8046.4419   True\n",
      "    L1     L4 -12290.8921   0.0 -12666.6281 -11915.1561   True\n",
      "    L1     L5 -16170.5192   0.0 -16507.1958 -15833.8426   True\n",
      "    L2     L3 -23905.5958   0.0 -24178.3092 -23632.8824   True\n",
      "    L2     L4 -27902.4555   0.0  -28295.201   -27509.71   True\n",
      "    L2     L5 -31782.0825   0.0 -32137.6421 -31426.5229   True\n",
      "    L3     L4  -3996.8597   0.0  -4409.8503  -3583.8691   True\n",
      "    L3     L5  -7876.4868   0.0  -8254.2894  -7498.6841   True\n",
      "    L4     L5  -3879.6271   0.0   -4351.444  -3407.8101   True\n",
      "--------------------------------------------------------------\n",
      "\n",
      "There is a significant difference in sales between location types.\n",
      "Reject Null Hypothesis\n"
     ]
    }
   ],
   "source": [
    "# One-way ANOVA test\n",
    "anova_result = stats.f_oneway(\n",
    "    data[data['Location_Type'] == 'L1']['Sales'],\n",
    "    data[data['Location_Type'] == 'L2']['Sales'],\n",
    "    data[data['Location_Type'] == 'L3']['Sales'],\n",
    "    data[data['Location_Type'] == 'L4']['Sales'],\n",
    "    data[data['Location_Type'] == 'L5']['Sales']\n",
    ")\n",
    "print(\"ANOVA p-value:\", anova_result.pvalue)\n",
    "\n",
    "# post-hoc test (Tukey's HSD)\n",
    "if anova_result.pvalue < 0.05:\n",
    "    tukey_result = pairwise_tukeyhsd(data['Sales'], data['Location_Type'])\n",
    "    print(tukey_result)\n",
    "print()\n",
    "if anova_result.pvalue < 0.05:\n",
    "    print(\"There is a significant difference in sales between location types.\")\n",
    "    print(\"Reject Null Hypothesis\")\n",
    "else:\n",
    "    print(\"There is no significant difference in sales between location types.\")\n",
    "    print(\"Fail to reject Null Hypothesis\")"
   ]
  },
  {
   "cell_type": "markdown",
   "id": "a18ecc17",
   "metadata": {},
   "source": [
    "### Hypothesis Testing\n",
    "\n",
    "**Null Hypothesis (H0):** The mean sales are the same across all regions.\n",
    "\n",
    "**Alternative Hypothesis (H1):** At least one region has a different mean sales compared to the others."
   ]
  },
  {
   "cell_type": "code",
   "execution_count": 15,
   "id": "05d88bf7",
   "metadata": {
    "ExecuteTime": {
     "end_time": "2024-08-04T16:31:20.177273Z",
     "start_time": "2024-08-04T16:31:19.716044Z"
    }
   },
   "outputs": [
    {
     "name": "stdout",
     "output_type": "stream",
     "text": [
      "ANOVA p-value: 0.0\n",
      "    Multiple Comparison of Means - Tukey HSD, FWER=0.05     \n",
      "============================================================\n",
      "group1 group2  meandiff  p-adj    lower      upper    reject\n",
      "------------------------------------------------------------\n",
      "    R1     R2 -5665.1479    0.0 -5915.8792 -5414.4166   True\n",
      "    R1     R3 -3592.7111    0.0 -3857.9476 -3327.4746   True\n",
      "    R1     R4 -5889.1059    0.0 -6205.3097  -5572.902   True\n",
      "    R2     R3  2072.4368    0.0  1798.3575   2346.516   True\n",
      "    R2     R4   -223.958 0.2841  -547.6151    99.6991  False\n",
      "    R3     R4 -2296.3947    0.0 -2631.4143 -1961.3751   True\n",
      "------------------------------------------------------------\n",
      "\n",
      "There is a significant difference in sales between diff regions.\n",
      "Reject Null Hypothesis\n"
     ]
    }
   ],
   "source": [
    "# One-way ANOVA test\n",
    "anova_result = stats.f_oneway(\n",
    "    data[data['Region_Code'] == 'R1']['Sales'],\n",
    "    data[data['Region_Code'] == 'R2']['Sales'],\n",
    "    data[data['Region_Code'] == 'R3']['Sales'],\n",
    "    data[data['Region_Code'] == 'R4']['Sales']\n",
    "\n",
    ")\n",
    "print(\"ANOVA p-value:\", anova_result.pvalue)\n",
    "\n",
    "# post-hoc test (Tukey's HSD)\n",
    "if anova_result.pvalue < 0.05:\n",
    "    tukey_result = pairwise_tukeyhsd(data['Sales'], data['Region_Code'])\n",
    "    print(tukey_result)\n",
    "print()\n",
    "if anova_result.pvalue < 0.05:\n",
    "    print(\"There is a significant difference in sales between diff regions.\")\n",
    "    print(\"Reject Null Hypothesis\")\n",
    "else:\n",
    "    print(\"There is no significant difference in sales between diff regions.\")\n",
    "    print(\"Fail to reject Null Hypothesis\")"
   ]
  },
  {
   "cell_type": "markdown",
   "id": "90ae16ad",
   "metadata": {},
   "source": [
    "- R2 and R4 region has same sales mean"
   ]
  },
  {
   "cell_type": "markdown",
   "id": "8ab3db03",
   "metadata": {
    "ExecuteTime": {
     "end_time": "2024-08-04T16:45:19.673668Z",
     "start_time": "2024-08-04T16:45:19.661633Z"
    }
   },
   "source": [
    "### Hypothesis Testing\n",
    "\n",
    "**Null Hypothesis (H0):** Discounts do not affect sales; the mean sales are the same whether there is a discount or not.\n",
    "\n",
    "**Alternative Hypothesis (H1):** Discounts affect sales; the mean sales are different when there is a discount compared to when there is no discount."
   ]
  },
  {
   "cell_type": "code",
   "execution_count": 17,
   "id": "d618f4f3",
   "metadata": {
    "ExecuteTime": {
     "end_time": "2024-08-04T16:44:19.048447Z",
     "start_time": "2024-08-04T16:44:18.909413Z"
    }
   },
   "outputs": [
    {
     "name": "stdout",
     "output_type": "stream",
     "text": [
      "T-statistic: -149.36\n",
      "P-value: 0.0000\n",
      "Reject the null hypothesis. There is a significant difference in sales between stores with and without discounts.\n"
     ]
    }
   ],
   "source": [
    "# Hypothesis Testing\n",
    "sales_no_discount = data[data['Discount'] == 'No']['Sales']\n",
    "sales_yes_discount = data[data['Discount'] == 'Yes']['Sales']\n",
    "\n",
    "# Perform two-sample t-test\n",
    "t_stat, p_value = stats.ttest_ind(sales_no_discount, sales_yes_discount, equal_var=False)\n",
    "\n",
    "print(f\"T-statistic: {t_stat:.2f}\")\n",
    "print(f\"P-value: {p_value:.4f}\")\n",
    "\n",
    "# Interpretation\n",
    "if p_value < 0.05:\n",
    "    print(\"Reject the null hypothesis. There is a significant difference in sales between stores with and without discounts.\")\n",
    "else:\n",
    "    print(\"Fail to reject the null hypothesis. There is no significant difference in sales between stores with and without discounts.\")"
   ]
  },
  {
   "cell_type": "markdown",
   "id": "8e871dd4",
   "metadata": {},
   "source": [
    "### Hypothesis Testing\n",
    "\n",
    "**Null Hypothesis (H0)**: Holidays do not affect sales; the mean sales are the same on holidays and non-holidays.\n",
    "\n",
    "**Alternative Hypothesis (H1)**: Holidays affect sales; the mean sales are different on holidays compared to non-holidays."
   ]
  },
  {
   "cell_type": "code",
   "execution_count": 21,
   "id": "ba40960d",
   "metadata": {
    "ExecuteTime": {
     "end_time": "2024-08-04T16:49:36.746661Z",
     "start_time": "2024-08-04T16:49:36.671386Z"
    }
   },
   "outputs": [
    {
     "name": "stdout",
     "output_type": "stream",
     "text": [
      "T-statistic: 67.20\n",
      "P-value: 0.0000\n",
      "Mean sales on non-holidays: 43089.53\n",
      "Mean sales on holidays: 34995.15\n",
      "Reject the null hypothesis. There is a significant difference in sales between holidays and non-holidays.\n",
      "Sales are significantly higher on non-holidays than on holidays.\n"
     ]
    }
   ],
   "source": [
    "# Hypothesis Testing\n",
    "sales_non_holiday = data[data['Holiday'] == 0]['Sales']\n",
    "sales_holiday = data[data['Holiday'] == 1]['Sales']\n",
    "\n",
    "# Perform two-sample t-test\n",
    "t_stat, p_value = stats.ttest_ind(sales_non_holiday, sales_holiday, equal_var=False)\n",
    "\n",
    "print(f\"T-statistic: {t_stat:.2f}\")\n",
    "print(f\"P-value: {p_value:.4f}\")\n",
    "\n",
    "# Mean Sales Comparison\n",
    "mean_sales_non_holiday = sales_non_holiday.mean()\n",
    "mean_sales_holiday = sales_holiday.mean()\n",
    "\n",
    "print(f\"Mean sales on non-holidays: {mean_sales_non_holiday:.2f}\")\n",
    "print(f\"Mean sales on holidays: {mean_sales_holiday:.2f}\")\n",
    "\n",
    "# Interpretation\n",
    "if p_value < 0.05:\n",
    "    print(\"Reject the null hypothesis. There is a significant difference in sales between holidays and non-holidays.\")\n",
    "    if mean_sales_holiday > mean_sales_non_holiday:\n",
    "        print(\"Sales are significantly higher on holidays than on non-holidays.\")\n",
    "    else:\n",
    "        print(\"Sales are significantly higher on non-holidays than on holidays.\")\n",
    "else:\n",
    "    print(\"Fail to reject the null hypothesis. There is no significant difference in sales between holidays and non-holidays.\")"
   ]
  },
  {
   "cell_type": "code",
   "execution_count": null,
   "id": "03dad71c",
   "metadata": {},
   "outputs": [],
   "source": []
  }
 ],
 "metadata": {
  "kernelspec": {
   "display_name": "Python 3 (ipykernel)",
   "language": "python",
   "name": "python3"
  },
  "language_info": {
   "codemirror_mode": {
    "name": "ipython",
    "version": 3
   },
   "file_extension": ".py",
   "mimetype": "text/x-python",
   "name": "python",
   "nbconvert_exporter": "python",
   "pygments_lexer": "ipython3",
   "version": "3.9.13"
  }
 },
 "nbformat": 4,
 "nbformat_minor": 5
}
